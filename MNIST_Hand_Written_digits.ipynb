{
  "nbformat": 4,
  "nbformat_minor": 0,
  "metadata": {
    "colab": {
      "provenance": []
    },
    "kernelspec": {
      "name": "python3",
      "display_name": "Python 3"
    },
    "language_info": {
      "name": "python"
    }
  },
  "cells": [
    {
      "cell_type": "code",
      "execution_count": 41,
      "metadata": {
        "id": "kcj-21g61wfC"
      },
      "outputs": [],
      "source": [
        "import numpy as np\n",
        "import pandas as pd\n",
        "from matplotlib import pyplot as plt\n",
        "\n",
        "data = pd.read_csv('/content/train.csv')"
      ]
    },
    {
      "cell_type": "code",
      "source": [
        "data = np.array(data)\n",
        "m, n = data.shape\n",
        "np.random.shuffle(data) # shuffle before splitting into dev and training sets\n",
        "\n",
        "data_dev = data[0:1000].T\n",
        "Y_dev = data_dev[0]\n",
        "X_dev = data_dev[1:n]\n",
        "X_dev = X_dev / 255\n",
        "\n",
        "data_train = data[1000:m].T\n",
        "Y_train = data_train[0]\n",
        "X_train = data_train[1:n]\n",
        "X_train = X_train / 255.\n",
        "_,m_train = X_train.shape"
      ],
      "metadata": {
        "id": "Y832zJTzD1m7"
      },
      "execution_count": 43,
      "outputs": []
    },
    {
      "cell_type": "code",
      "source": [
        "Y_train"
      ],
      "metadata": {
        "colab": {
          "base_uri": "https://localhost:8080/"
        },
        "id": "XT2ubygSD2w5",
        "outputId": "01a5e4b6-c3bc-4955-e49e-39ce0b9a15f2"
      },
      "execution_count": 44,
      "outputs": [
        {
          "output_type": "execute_result",
          "data": {
            "text/plain": [
              "array([7, 1, 0, ..., 1, 1, 1])"
            ]
          },
          "metadata": {},
          "execution_count": 44
        }
      ]
    },
    {
      "cell_type": "code",
      "source": [
        "def init_params():\n",
        "    W1 = np.random.rand(10, 784) - 0.5\n",
        "    b1 = np.random.rand(10, 1) - 0.5\n",
        "    W2 = np.random.rand(10, 10) - 0.5\n",
        "    b2 = np.random.rand(10, 1) - 0.5\n",
        "    return W1, b1, W2, b2\n",
        "\n",
        "def ReLU(Z):\n",
        "    return np.maximum(Z, 0)\n",
        "\n",
        "def softmax(Z):\n",
        "    A = np.exp(Z) / sum(np.exp(Z))\n",
        "    return A\n",
        "\n",
        "def forward_prop(W1, b1, W2, b2, X):\n",
        "    Z1 = W1.dot(X) + b1\n",
        "    A1 = ReLU(Z1)\n",
        "    Z2 = W2.dot(A1) + b2\n",
        "    A2 = softmax(Z2)\n",
        "    return Z1, A1, Z2, A2\n",
        "\n",
        "    def ReLU_deriv(Z):\n",
        "      return Z > 0\n",
        "\n",
        "def one_hot(Y):\n",
        "    one_hot_Y = np.zeros((Y.size, Y.max() + 1))\n",
        "    one_hot_Y[np.arange(Y.size), Y] = 1\n",
        "    one_hot_Y = one_hot_Y.T\n",
        "    return one_hot_Y\n",
        "\n",
        "def backward_prop(Z1, A1, Z2, A2, W1, W2, X, Y):\n",
        "    one_hot_Y = one_hot(Y)\n",
        "    dZ2 = A2 - one_hot_Y\n",
        "    dW2 = 1 / m * dZ2.dot(A1.T)\n",
        "    db2 = 1 / m * np.sum(dZ2)\n",
        "    dZ1 = W2.T.dot(dZ2) * ReLU_deriv(Z1)\n",
        "    dW1 = 1 / m * dZ1.dot(X.T)\n",
        "    db1 = 1 / m * np.sum(dZ1)\n",
        "    return dW1, db1, dW2, db2\n",
        "\n",
        "    def update_params(W1, b1, W2, b2, dW1, db1, dW2, db2, alpha):\n",
        "      W1 = W1 - alpha * dW1\n",
        "      b1 = b1 - alpha * db1\n",
        "      W2 = W2 - alpha * dW2\n",
        "      b2 = b2 - alpha * db2\n",
        "      return W1, b1, W2, b2"
      ],
      "metadata": {
        "id": "Y6Qvu34TD9Cn"
      },
      "execution_count": 47,
      "outputs": []
    },
    {
      "cell_type": "code",
      "source": [
        "def get_predictions(A2):\n",
        "    return np.argmax(A2, 0)\n",
        "\n",
        "def get_accuracy(predictions, Y):\n",
        "    print(predictions, Y)\n",
        "    return np.sum(predictions == Y) / Y.size\n",
        "\n",
        "def gradient_descent(X, Y, alpha, iterations):\n",
        "    W1, b1, W2, b2 = init_params()\n",
        "    for i in range(iterations):\n",
        "        Z1, A1, Z2, A2 = forward_prop(W1, b1, W2, b2, X)\n",
        "        dW1, db1, dW2, db2 = backward_prop(Z1, A1, Z2, A2, W1, W2, X, Y)\n",
        "        W1, b1, W2, b2 = update_params(W1, b1, W2, b2, dW1, db1, dW2, db2, alpha)\n",
        "        if i % 10 == 0:\n",
        "            print(\"Iteration: \", i)\n",
        "            predictions = get_predictions(A2)\n",
        "            print(get_accuracy(predictions, Y))\n",
        "    return W1, b1, W2, b2"
      ],
      "metadata": {
        "id": "kRm5gQeYERCZ"
      },
      "execution_count": 48,
      "outputs": []
    },
    {
      "cell_type": "code",
      "source": [
        "W1, b1, W2, b2 = gradient_descent(X_train, Y_train, 0.10, 500)"
      ],
      "metadata": {
        "colab": {
          "base_uri": "https://localhost:8080/"
        },
        "id": "cyyxNQloEU0S",
        "outputId": "b59ac9cc-1351-4562-fa0b-405330160da1"
      },
      "execution_count": 49,
      "outputs": [
        {
          "output_type": "stream",
          "name": "stdout",
          "text": [
            "Iteration:  0\n",
            "[3 9 4 ... 9 9 9] [7 1 0 ... 1 1 1]\n",
            "0.0721951219512195\n",
            "Iteration:  10\n",
            "[7 9 0 ... 9 9 9] [7 1 0 ... 1 1 1]\n",
            "0.19\n",
            "Iteration:  20\n",
            "[7 9 0 ... 9 9 9] [7 1 0 ... 1 1 1]\n",
            "0.27714634146341466\n",
            "Iteration:  30\n",
            "[7 9 0 ... 9 9 9] [7 1 0 ... 1 1 1]\n",
            "0.344390243902439\n",
            "Iteration:  40\n",
            "[7 9 0 ... 9 9 9] [7 1 0 ... 1 1 1]\n",
            "0.3897317073170732\n",
            "Iteration:  50\n",
            "[7 9 0 ... 9 9 9] [7 1 0 ... 1 1 1]\n",
            "0.43285365853658536\n",
            "Iteration:  60\n",
            "[7 1 0 ... 9 9 9] [7 1 0 ... 1 1 1]\n",
            "0.49253658536585365\n",
            "Iteration:  70\n",
            "[7 1 0 ... 1 1 1] [7 1 0 ... 1 1 1]\n",
            "0.5646829268292682\n",
            "Iteration:  80\n",
            "[7 1 0 ... 1 1 1] [7 1 0 ... 1 1 1]\n",
            "0.6172926829268293\n",
            "Iteration:  90\n",
            "[7 1 0 ... 1 1 1] [7 1 0 ... 1 1 1]\n",
            "0.6485853658536586\n",
            "Iteration:  100\n",
            "[7 1 0 ... 1 1 1] [7 1 0 ... 1 1 1]\n",
            "0.6695609756097561\n",
            "Iteration:  110\n",
            "[7 1 0 ... 1 1 1] [7 1 0 ... 1 1 1]\n",
            "0.6899268292682926\n",
            "Iteration:  120\n",
            "[7 1 0 ... 1 1 1] [7 1 0 ... 1 1 1]\n",
            "0.706780487804878\n",
            "Iteration:  130\n",
            "[7 1 0 ... 1 1 1] [7 1 0 ... 1 1 1]\n",
            "0.7210731707317073\n",
            "Iteration:  140\n",
            "[7 1 0 ... 1 1 1] [7 1 0 ... 1 1 1]\n",
            "0.7334634146341463\n",
            "Iteration:  150\n",
            "[7 1 0 ... 1 1 1] [7 1 0 ... 1 1 1]\n",
            "0.7449024390243902\n",
            "Iteration:  160\n",
            "[7 1 0 ... 1 1 1] [7 1 0 ... 1 1 1]\n",
            "0.7540243902439024\n",
            "Iteration:  170\n",
            "[7 1 0 ... 1 1 1] [7 1 0 ... 1 1 1]\n",
            "0.7626585365853659\n",
            "Iteration:  180\n",
            "[7 1 0 ... 1 1 1] [7 1 0 ... 1 1 1]\n",
            "0.7705853658536586\n",
            "Iteration:  190\n",
            "[7 1 0 ... 1 1 1] [7 1 0 ... 1 1 1]\n",
            "0.7777560975609756\n",
            "Iteration:  200\n",
            "[7 1 0 ... 1 1 1] [7 1 0 ... 1 1 1]\n",
            "0.7839512195121952\n",
            "Iteration:  210\n",
            "[7 1 0 ... 1 1 1] [7 1 0 ... 1 1 1]\n",
            "0.7887804878048781\n",
            "Iteration:  220\n",
            "[7 1 0 ... 1 1 1] [7 1 0 ... 1 1 1]\n",
            "0.7941707317073171\n",
            "Iteration:  230\n",
            "[7 1 0 ... 1 1 1] [7 1 0 ... 1 1 1]\n",
            "0.798219512195122\n",
            "Iteration:  240\n",
            "[7 1 0 ... 1 1 1] [7 1 0 ... 1 1 1]\n",
            "0.8024878048780488\n",
            "Iteration:  250\n",
            "[7 1 0 ... 1 1 1] [7 1 0 ... 1 1 1]\n",
            "0.805829268292683\n",
            "Iteration:  260\n",
            "[7 1 0 ... 1 1 1] [7 1 0 ... 1 1 1]\n",
            "0.8092682926829269\n",
            "Iteration:  270\n",
            "[7 1 0 ... 1 1 1] [7 1 0 ... 1 1 1]\n",
            "0.8127073170731707\n",
            "Iteration:  280\n",
            "[7 1 0 ... 1 1 1] [7 1 0 ... 1 1 1]\n",
            "0.8159268292682926\n",
            "Iteration:  290\n",
            "[7 1 0 ... 1 1 1] [7 1 0 ... 1 1 1]\n",
            "0.8186097560975609\n",
            "Iteration:  300\n",
            "[7 1 0 ... 1 1 1] [7 1 0 ... 1 1 1]\n",
            "0.8212926829268292\n",
            "Iteration:  310\n",
            "[7 1 0 ... 1 1 1] [7 1 0 ... 1 1 1]\n",
            "0.8236829268292682\n",
            "Iteration:  320\n",
            "[7 1 0 ... 1 1 1] [7 1 0 ... 1 1 1]\n",
            "0.8264146341463414\n",
            "Iteration:  330\n",
            "[7 1 0 ... 1 1 1] [7 1 0 ... 1 1 1]\n",
            "0.8289512195121951\n",
            "Iteration:  340\n",
            "[7 1 0 ... 1 1 1] [7 1 0 ... 1 1 1]\n",
            "0.8308048780487804\n",
            "Iteration:  350\n",
            "[7 1 0 ... 1 1 1] [7 1 0 ... 1 1 1]\n",
            "0.833170731707317\n",
            "Iteration:  360\n",
            "[7 1 0 ... 1 1 1] [7 1 0 ... 1 1 1]\n",
            "0.8353414634146341\n",
            "Iteration:  370\n",
            "[7 1 0 ... 1 1 1] [7 1 0 ... 1 1 1]\n",
            "0.8369268292682926\n",
            "Iteration:  380\n",
            "[7 1 0 ... 1 1 1] [7 1 0 ... 1 1 1]\n",
            "0.8388536585365853\n",
            "Iteration:  390\n",
            "[7 1 0 ... 1 1 1] [7 1 0 ... 1 1 1]\n",
            "0.840390243902439\n",
            "Iteration:  400\n",
            "[7 1 0 ... 1 1 1] [7 1 0 ... 1 1 1]\n",
            "0.8418780487804878\n",
            "Iteration:  410\n",
            "[7 1 0 ... 1 1 1] [7 1 0 ... 1 1 1]\n",
            "0.843170731707317\n",
            "Iteration:  420\n",
            "[7 1 0 ... 1 1 1] [7 1 0 ... 1 1 1]\n",
            "0.8443414634146341\n",
            "Iteration:  430\n",
            "[7 1 0 ... 1 1 1] [7 1 0 ... 1 1 1]\n",
            "0.8459512195121951\n",
            "Iteration:  440\n",
            "[7 1 0 ... 1 1 1] [7 1 0 ... 1 1 1]\n",
            "0.8472439024390244\n",
            "Iteration:  450\n",
            "[7 1 0 ... 1 1 1] [7 1 0 ... 1 1 1]\n",
            "0.8484390243902439\n",
            "Iteration:  460\n",
            "[7 1 0 ... 1 1 1] [7 1 0 ... 1 1 1]\n",
            "0.8496829268292683\n",
            "Iteration:  470\n",
            "[7 1 0 ... 1 1 1] [7 1 0 ... 1 1 1]\n",
            "0.8508048780487805\n",
            "Iteration:  480\n",
            "[7 1 0 ... 1 1 1] [7 1 0 ... 1 1 1]\n",
            "0.8520487804878049\n",
            "Iteration:  490\n",
            "[7 1 0 ... 1 1 1] [7 1 0 ... 1 1 1]\n",
            "0.8530243902439024\n"
          ]
        }
      ]
    },
    {
      "cell_type": "code",
      "source": [
        "def make_predictions(X, W1, b1, W2, b2):\n",
        "    _, _, _, A2 = forward_prop(W1, b1, W2, b2, X)\n",
        "    predictions = get_predictions(A2)\n",
        "    return predictions\n",
        "\n",
        "def test_prediction(index, W1, b1, W2, b2):\n",
        "    current_image = X_train[:, index, None]\n",
        "    prediction = make_predictions(X_train[:, index, None], W1, b1, W2, b2)\n",
        "    label = Y_train[index]\n",
        "    print(\"Prediction: \", prediction)\n",
        "    print(\"Label: \", label)\n",
        "\n",
        "    current_image = current_image.reshape((28, 28)) * 255\n",
        "    plt.gray()\n",
        "    plt.imshow(current_image, interpolation='nearest')\n",
        "    plt.show()\n"
      ],
      "metadata": {
        "id": "LGFOXOd3E8fz"
      },
      "execution_count": 50,
      "outputs": []
    },
    {
      "cell_type": "code",
      "source": [
        "test_prediction(0, W1, b1, W2, b2)\n",
        "test_prediction(1, W1, b1, W2, b2)\n",
        "test_prediction(2, W1, b1, W2, b2)\n",
        "test_prediction(3, W1, b1, W2, b2)"
      ],
      "metadata": {
        "colab": {
          "base_uri": "https://localhost:8080/",
          "height": 1000
        },
        "id": "O4bDSiszE_-D",
        "outputId": "5f5c9f89-5a71-462f-c113-ba0137491ace"
      },
      "execution_count": 51,
      "outputs": [
        {
          "output_type": "stream",
          "name": "stdout",
          "text": [
            "Prediction:  [7]\n",
            "Label:  7\n"
          ]
        },
        {
          "output_type": "display_data",
          "data": {
            "text/plain": [
              "<Figure size 640x480 with 1 Axes>"
            ],
            "image/png": "[encoded data removed]"
          },
          "metadata": {}
        },
        {
          "output_type": "stream",
          "name": "stdout",
          "text": [
            "Prediction:  [1]\n",
            "Label:  1\n"
          ]
        },
        {
          "output_type": "display_data",
          "data": {
            "text/plain": [
              "<Figure size 640x480 with 1 Axes>"
            ],
            "image/png": "[encoded data removed]"
          },
          "metadata": {}
        },
        {
          "output_type": "stream",
          "name": "stdout",
          "text": [
            "Prediction:  [0]\n",
            "Label:  0\n"
          ]
        },
        {
          "output_type": "display_data",
          "data": {
            "text/plain": [
              "<Figure size 640x480 with 1 Axes>"
            ],
            "image/png": "[encoded data removed]"
          },
          "metadata": {}
        },
        {
          "output_type": "stream",
          "name": "stdout",
          "text": [
            "Prediction:  [2]\n",
            "Label:  3\n"
          ]
        },
        {
          "output_type": "display_data",
          "data": {
            "text/plain": [
              "<Figure size 640x480 with 1 Axes>"
            ],
            "image/png": "[encoded data removed]"
          },
          "metadata": {}
        }
      ]
    },
    {
      "cell_type": "code",
      "source": [
        "dev_predictions = make_predictions(X_dev, W1, b1, W2, b2)\n",
        "get_accuracy(dev_predictions, Y_dev)"
      ],
      "metadata": {
        "colab": {
          "base_uri": "https://localhost:8080/"
        },
        "id": "MewuLdmQFKLn",
        "outputId": "5de8ea5a-dbfc-442e-9e55-a1f5f821a3db"
      },
      "execution_count": 52,
      "outputs": [
        {
          "output_type": "stream",
          "name": "stdout",
          "text": [
            "[0 7 6 8 3 3 7 3 7 4 6 4 6 3 5 2 5 8 7 1 1 8 8 6 8 5 2 8 8 1 9 3 7 3 1 2 7\n",
            " 3 7 8 0 1 7 2 0 3 6 2 0 6 9 9 5 6 7 6 0 6 1 0 5 8 0 6 6 8 7 5 6 5 7 9 4 3\n",
            " 1 9 5 3 6 4 8 7 4 0 7 9 9 8 9 5 4 3 9 7 7 6 7 1 8 9 7 9 1 4 5 8 3 9 1 6 7\n",
            " 9 7 4 8 7 1 4 9 7 5 2 3 1 6 8 5 2 7 4 4 2 7 3 9 9 6 0 2 5 4 6 0 1 3 8 9 9\n",
            " 8 0 6 4 1 7 7 9 4 3 9 9 5 2 0 1 8 6 2 0 6 2 8 7 4 4 8 2 5 0 8 0 0 5 2 2 8\n",
            " 7 8 1 7 6 8 7 3 7 0 7 3 4 1 2 3 1 0 7 8 5 3 9 0 6 8 2 8 0 0 1 1 7 3 1 2 3\n",
            " 2 8 1 0 4 7 9 7 7 0 7 0 4 4 4 6 1 4 8 0 1 6 4 6 1 6 6 1 6 1 7 3 7 4 6 8 6\n",
            " 8 4 3 8 7 1 2 7 5 0 1 2 8 3 5 0 4 5 1 8 7 0 3 3 3 6 3 0 2 7 4 1 4 5 3 0 4\n",
            " 7 8 9 3 0 2 1 5 4 9 3 7 9 1 6 3 4 2 7 0 1 3 6 3 3 2 1 3 1 6 9 4 7 4 9 3 8\n",
            " 5 3 4 1 6 0 5 3 8 0 5 0 7 0 4 7 1 0 4 4 3 8 2 6 2 1 6 2 2 1 0 4 3 3 1 0 1\n",
            " 1 1 4 9 0 2 9 9 8 9 4 3 1 5 4 7 3 2 9 3 8 4 5 6 7 8 8 3 5 7 1 5 4 2 8 5 1\n",
            " 1 3 6 6 3 7 1 1 0 2 1 5 9 4 7 5 9 2 0 6 1 7 5 9 2 7 1 2 9 3 7 1 1 2 8 1 9\n",
            " 4 3 3 3 6 0 4 0 8 3 2 8 0 1 5 6 8 8 4 8 7 6 9 5 3 6 1 9 0 0 4 2 5 6 2 8 2\n",
            " 3 2 9 2 1 2 9 5 8 0 0 8 6 4 6 2 4 7 0 6 3 8 4 8 0 4 8 9 4 7 1 6 0 1 4 3 0\n",
            " 7 3 1 1 9 3 5 3 6 7 1 1 6 6 1 2 5 4 5 1 8 0 0 6 8 6 0 5 3 7 4 4 5 3 2 8 0\n",
            " 3 3 0 4 3 4 0 3 2 1 6 9 9 7 2 3 1 4 5 6 1 6 2 3 4 6 1 2 2 3 6 1 5 7 3 2 7\n",
            " 4 1 5 6 4 9 5 2 5 2 2 6 7 3 1 5 0 7 3 1 5 9 0 4 1 1 7 6 9 8 1 5 0 2 6 2 0\n",
            " 8 7 3 2 7 4 4 7 7 3 7 4 2 0 3 4 3 8 1 1 9 6 8 6 4 9 0 0 7 8 3 4 4 8 7 3 8\n",
            " 7 3 5 9 5 7 1 7 7 0 6 8 4 7 6 2 2 7 5 0 0 6 7 2 9 0 5 8 9 6 6 9 9 5 4 2 1\n",
            " 4 8 1 4 2 9 7 9 5 8 2 3 1 7 6 6 8 9 7 9 5 6 2 1 2 1 2 7 3 8 8 8 0 6 7 7 2\n",
            " 4 5 0 6 3 7 0 2 3 5 1 6 0 6 8 5 5 7 6 5 1 0 8 7 9 8 7 6 4 7 1 8 8 3 6 6 7\n",
            " 7 2 7 6 8 8 8 7 1 0 2 7 3 5 2 1 4 5 9 3 7 1 8 3 4 1 3 7 0 8 4 2 4 9 3 1 0\n",
            " 7 7 6 6 6 9 7 4 6 8 9 0 8 0 5 7 4 6 9 7 3 8 9 4 4 7 9 9 6 3 0 3 2 1 2 0 9\n",
            " 0 2 8 6 8 0 9 3 0 4 0 7 2 2 7 1 6 5 7 3 4 4 9 4 2 1 6 7 1 4 1 6 4 1 0 9 3\n",
            " 3 4 4 4 2 0 0 4 2 7 5 0 8 4 1 9 5 6 2 6 1 7 9 4 6 4 6 6 2 6 0 7 9 9 4 8 1\n",
            " 6 1 3 4 0 0 1 9 1 8 6 0 7 3 0 8 3 1 1 7 1 8 6 4 0 3 4 3 3 2 3 6 4 4 1 5 2\n",
            " 7 3 6 8 7 5 6 8 2 1 3 2 1 1 1 8 2 6 3 9 2 9 1 4 7 7 0 9 9 5 7 9 7 2 3 5 2\n",
            " 4] [0 7 6 4 3 3 7 3 7 4 6 9 5 3 5 4 5 8 7 1 1 8 4 2 8 5 2 8 8 1 9 3 7 3 1 2 7\n",
            " 3 7 8 0 1 3 2 0 9 6 2 0 6 9 4 5 6 7 6 6 6 1 0 5 8 0 6 6 8 7 5 2 5 7 9 9 3\n",
            " 1 9 5 8 6 4 9 7 9 0 7 9 9 8 9 5 4 3 9 7 7 6 7 1 9 9 7 9 1 4 1 5 3 9 1 6 7\n",
            " 9 7 4 8 7 1 4 9 7 5 2 3 1 6 5 5 2 9 4 4 2 7 3 9 9 6 0 3 5 4 6 0 1 3 8 7 9\n",
            " 8 0 6 4 1 9 7 9 4 3 9 9 4 2 0 1 8 6 2 0 6 2 8 7 5 4 7 2 5 0 8 0 0 5 2 2 8\n",
            " 7 8 1 7 6 8 7 3 7 0 7 3 9 1 5 3 1 0 7 5 5 3 9 0 6 8 2 8 0 0 1 2 7 3 1 2 3\n",
            " 2 8 1 0 4 7 3 7 7 0 7 5 4 4 6 4 1 4 8 0 1 5 4 6 1 6 6 1 6 8 7 3 7 4 6 8 6\n",
            " 8 4 3 8 7 1 2 7 5 0 1 2 3 3 5 0 4 5 1 8 3 5 5 3 3 6 3 0 2 7 4 1 4 5 3 0 4\n",
            " 7 8 9 9 3 2 1 5 4 9 3 7 9 1 6 9 4 2 7 0 1 3 2 5 0 2 1 5 1 6 9 4 9 4 9 3 8\n",
            " 5 8 6 1 6 0 0 3 8 7 8 0 7 0 5 7 1 0 6 4 3 4 2 6 2 1 6 2 2 1 0 4 3 3 2 0 1\n",
            " 1 8 4 9 0 2 8 9 8 9 4 3 1 5 4 7 3 2 9 5 8 4 5 6 7 8 8 3 5 7 1 5 4 2 0 5 1\n",
            " 1 3 6 6 3 7 1 1 0 2 1 5 7 4 4 5 9 2 0 6 1 7 5 9 2 7 1 3 9 3 7 1 1 2 8 1 4\n",
            " 4 3 3 3 6 0 4 0 8 3 2 8 0 1 5 6 8 6 4 8 7 6 9 5 3 6 1 2 0 0 4 2 5 6 2 8 3\n",
            " 3 2 9 2 1 2 9 5 8 0 0 8 6 4 6 2 4 7 0 6 5 8 9 8 0 2 8 9 4 7 1 6 0 1 4 3 0\n",
            " 7 3 1 1 9 3 5 3 2 7 1 1 6 6 1 2 5 9 3 1 8 0 0 6 8 6 0 5 3 7 4 4 6 5 2 8 0\n",
            " 3 3 0 4 3 9 0 3 2 1 6 9 9 2 2 3 1 4 5 6 3 6 2 3 4 6 1 2 2 3 6 2 5 7 3 2 7\n",
            " 4 1 8 6 4 9 5 2 5 2 1 6 7 3 1 3 2 4 3 1 0 4 0 4 1 1 7 4 9 8 1 5 0 2 6 2 5\n",
            " 5 7 3 2 7 4 4 7 9 3 7 4 2 0 3 4 5 5 1 1 7 2 5 6 4 9 0 0 2 8 3 4 4 8 7 3 8\n",
            " 0 3 5 9 5 7 1 7 7 0 6 8 4 7 6 2 2 7 5 0 0 6 7 2 9 0 5 8 7 6 6 9 9 0 4 2 1\n",
            " 9 8 1 4 2 9 7 9 5 5 2 3 1 7 6 6 8 4 7 9 5 6 2 1 6 1 2 7 3 8 1 8 0 2 7 7 2\n",
            " 4 4 0 6 3 7 0 2 3 5 1 2 0 6 5 5 3 7 5 5 1 0 8 7 9 8 9 6 9 7 1 8 5 5 6 6 7\n",
            " 7 2 7 6 8 8 8 7 1 5 2 3 5 5 2 1 4 6 9 3 7 1 8 3 4 1 3 2 0 0 9 2 4 9 3 1 0\n",
            " 7 7 6 5 6 4 7 4 6 8 9 0 9 0 5 7 9 2 9 9 3 8 3 3 4 7 9 9 6 3 0 3 2 2 2 0 4\n",
            " 0 2 8 8 8 0 9 3 0 8 0 7 2 2 7 1 6 5 7 5 4 4 9 4 2 1 6 7 1 4 3 6 4 1 0 9 8\n",
            " 3 6 4 4 3 0 0 4 3 7 7 0 3 9 1 4 5 4 2 6 1 7 9 4 6 4 6 6 2 6 0 7 9 4 4 8 1\n",
            " 6 1 8 7 0 0 1 9 1 4 6 0 7 8 0 8 8 1 7 9 1 8 6 9 0 3 9 3 3 2 8 2 4 4 1 5 2\n",
            " 7 3 5 8 7 3 6 8 2 1 3 5 1 6 1 8 2 6 3 4 3 9 1 4 7 7 0 9 9 5 7 9 7 2 3 5 2\n",
            " 9]\n"
          ]
        },
        {
          "output_type": "execute_result",
          "data": {
            "text/plain": [
              "np.float64(0.836)"
            ]
          },
          "metadata": {},
          "execution_count": 52
        }
      ]
    },
    {
      "cell_type": "code",
      "source": [],
      "metadata": {
        "id": "Cogc-Bs6FRS_"
      },
      "execution_count": null,
      "outputs": []
    }
  ]
}